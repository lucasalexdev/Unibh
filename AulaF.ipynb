{
  "nbformat": 4,
  "nbformat_minor": 0,
  "metadata": {
    "colab": {
      "provenance": [],
      "toc_visible": true,
      "authorship_tag": "ABX9TyNbmvs4umRbjrTxfA+fXgpF",
      "include_colab_link": true
    },
    "kernelspec": {
      "name": "python3",
      "display_name": "Python 3"
    },
    "language_info": {
      "name": "python"
    }
  },
  "cells": [
    {
      "cell_type": "markdown",
      "metadata": {
        "id": "view-in-github",
        "colab_type": "text"
      },
      "source": [
        "<a href=\"https://colab.research.google.com/github/lucasalexdev/Unibh/blob/master/AulaF.ipynb\" target=\"_parent\"><img src=\"https://colab.research.google.com/assets/colab-badge.svg\" alt=\"Open In Colab\"/></a>"
      ]
    },
    {
      "cell_type": "markdown",
      "source": [
        "#Aula F 27/02"
      ],
      "metadata": {
        "id": "NLV7mfRK7Bas"
      }
    },
    {
      "cell_type": "code",
      "execution_count": null,
      "metadata": {
        "colab": {
          "base_uri": "https://localhost:8080/"
        },
        "id": "z-r62tKM0bC8",
        "outputId": "5a65bb74-7e75-4bc8-fbda-509a00acb422"
      },
      "outputs": [
        {
          "output_type": "stream",
          "name": "stdout",
          "text": [
            "Hello, World!\n"
          ]
        }
      ],
      "source": [
        "print(\"Hello, World!\")"
      ]
    },
    {
      "cell_type": "code",
      "source": [
        "#Verificar qual é o sucessor e o antecessor de um número\n",
        "\n",
        "n= int (input(\"Digite o número: \"))\n",
        "s=int(n+1)\n",
        "a=n-1\n",
        "print(\"sucessor\",s)\n",
        "print(\"antecessor\",a)\n",
        "\n",
        "#definindo a função\n",
        "\n",
        "def f(x):\n",
        "  return 325*x\n",
        "xx= int (input(\"Digite o número n: \"))\n",
        "fx= f(xx)\n",
        "print(\"f(x) de \",xx, \"é: \",fx)\n",
        "\n",
        "#importando bibliotecas\n",
        "import numpy as np\n",
        "import matplotlib.pyplot as plt\n",
        "\n",
        "\n",
        "plt.plot([1],[1],'b.')\n",
        "plt.plot([0],[0],'b.')\n",
        "plt.plot([2],[3],'b.')"
      ],
      "metadata": {
        "id": "vGXaifXc5Vsy",
        "colab": {
          "base_uri": "https://localhost:8080/",
          "height": 534
        },
        "outputId": "f4182f40-89af-499e-db9f-242b5bae7b84"
      },
      "execution_count": null,
      "outputs": [
        {
          "output_type": "stream",
          "name": "stdout",
          "text": [
            "Digite o número: 5\n",
            "sucessor 6\n",
            "antecessor 4\n",
            "Digite o número n: 2\n",
            "f(x) de  2 é:  650\n"
          ]
        },
        {
          "output_type": "execute_result",
          "data": {
            "text/plain": [
              "[<matplotlib.lines.Line2D at 0x7c5a00217af0>]"
            ]
          },
          "metadata": {},
          "execution_count": 1
        },
        {
          "output_type": "display_data",
          "data": {
            "text/plain": [
              "<Figure size 640x480 with 1 Axes>"
            ],
            "image/png": "[encoded data removed]"
          },
          "metadata": {}
        }
      ]
    },
    {
      "cell_type": "markdown",
      "source": [
        "#Aula F 12/03"
      ],
      "metadata": {
        "id": "kzKBB2kFFp1y"
      }
    },
    {
      "cell_type": "code",
      "source": [
        "import numpy as np\n",
        "\n",
        "#Defina dois vetores como array do NumPy\n",
        "vetor1 = np.array ([1,2,3])\n",
        "vetor2 = np.array ([4,5,6])\n",
        "\n",
        "#some os vetores usando a fução add do NumPy\n",
        "soma_vetores = np.add(vetor1,vetor2)\n",
        "\n",
        "#imprimindo a soma\n",
        "print(soma_vetores)"
      ],
      "metadata": {
        "colab": {
          "base_uri": "https://localhost:8080/"
        },
        "id": "-t_uLev4F1H0",
        "outputId": "19ccfed2-de3d-4f27-fa0a-e2c5f7fedefb"
      },
      "execution_count": null,
      "outputs": [
        {
          "output_type": "stream",
          "name": "stdout",
          "text": [
            "[5 7 9]\n"
          ]
        }
      ]
    },
    {
      "cell_type": "code",
      "source": [
        "#Calcular o Valor Absoluto\n",
        "w=input(\"Qual valor você deseja saber o valor absoluto? \")\n",
        "r=abs(int(w))\n",
        "print(\"O valor absoluto de \",w,\" é \",r)"
      ],
      "metadata": {
        "colab": {
          "base_uri": "https://localhost:8080/"
        },
        "id": "IL13izYAKYzA",
        "outputId": "f52a457d-ae87-4c55-cd6f-d59bd290d9b4"
      },
      "execution_count": null,
      "outputs": [
        {
          "output_type": "stream",
          "name": "stdout",
          "text": [
            "Qual valor você deseja saber o valor absoluto? 5\n",
            "O valor absoluto de  5  é  5\n"
          ]
        }
      ]
    },
    {
      "cell_type": "markdown",
      "source": [
        "#Aula F 26/03"
      ],
      "metadata": {
        "id": "L-D7ukDH54Om"
      }
    },
    {
      "cell_type": "code",
      "source": [
        "#Aula 3-1\n",
        "from fractions import Fraction\n",
        "import matplotlib.pyplot as plt\n",
        "\n",
        "#Dados\n",
        "x = [0,0,-5,-2,4,2,-2,-1,3,0]\n",
        "y = [0,-5,0,3,2,4,3,-4,0,3]\n",
        "nomes = [\"A\",\"B\",\"C\",\"D\",\"E\",\"F\",\"G\",\"H\",\"I\",\"J\"]\n",
        "\n",
        "#Gráfico\n",
        "plt.plot(x[0],y[0],\"r.\")\n",
        "plt.plot(x[0],y[-5],\"b.\")\n",
        "plt.plot(x[-5],y[0],\"g.\")\n",
        "plt.plot(x[-2],y[3],\"b.\")\n",
        "plt.plot(x[4],y[2],\"r.\")\n",
        "plt.plot(x[2],y[4],\"g.\")\n",
        "plt.plot(x[-2],y[3],\"y.\")\n",
        "plt.plot(x[-1],y[-4],\"g.\")\n",
        "plt.plot(x[3],y[0],\"b.\")\n",
        "plt.plot(x[0],y[3],\"g.\")\n",
        "\n",
        "#Legenda\n",
        "plt.legend(nomes)\n",
        "\n",
        "#Mostra o gráfico\n",
        "plt.show()"
      ],
      "metadata": {
        "id": "xGrs3Tjf58u-",
        "colab": {
          "base_uri": "https://localhost:8080/",
          "height": 430
        },
        "outputId": "c4808c06-29f6-495c-e1ea-893d1c934d8f"
      },
      "execution_count": null,
      "outputs": [
        {
          "output_type": "display_data",
          "data": {
            "text/plain": [
              "<Figure size 640x480 with 1 Axes>"
            ],
            "image/png": "[encoded data removed]"
          },
          "metadata": {}
        }
      ]
    },
    {
      "cell_type": "code",
      "source": [
        "#Aula 3-2\n",
        "\n",
        "from fractions import Fraction\n",
        "import matplotlib.pyplot as plt\n",
        "\n",
        "def fx(x):\n",
        "  return (x-2)/3\n",
        "  numero = input(\"Digite um número: \")\n",
        "  print(Fraction(numero))\n",
        "  real=float(Fraction(numero))\n",
        "  print(fx(real))\n"
      ],
      "metadata": {
        "id": "fQNxCWVRTzrH"
      },
      "execution_count": null,
      "outputs": []
    },
    {
      "cell_type": "markdown",
      "source": [
        "#Aula F 09/04"
      ],
      "metadata": {
        "id": "5LHDXwZC-znT"
      }
    },
    {
      "cell_type": "code",
      "source": [
        "#Imprtar bibliotecas\n",
        "import numpy as np\n",
        "import matplotlib.pyplot as plt\n",
        "\n",
        "#Entrada de dados (digitados)\n",
        "n=input(\"Entre seus dados\")\n",
        "print(\"Você digitou o seguinte dado \",n)\n",
        "\n",
        "#n :\n",
        "#n ==\n",
        "#n\n",
        "#n\n",
        "#a in n\n",
        "#a is true\n",
        "# True\n",
        "\n",
        "if n==5:\n",
        "  print(\"O valor digitado é \",n)\n",
        "else:\n",
        " print(\"O valor digitado é (mas é falso): \",n)\n",
        "\n",
        "#for\n",
        "for i in range(1, 10):\n",
        " print(i)\n",
        "\n",
        "#While\n",
        "while int(n) < 20:\n",
        "  n = int(n) + 1\n",
        "  print(n)\n",
        "\n",
        "#somar vetores sem Concatenar\n",
        "import numpy as np\n",
        "\n",
        "# Defina dois vetores com arrays do NumPy\n",
        "vetor1 = np.array([1,2,3])\n",
        "vetor2 = np.array([4,5,6])\n",
        "\n",
        "# Some os vetores usando a função add do NumPy\n",
        "soma_vetores = np.add(vetor1, vetor2)\n",
        "\n",
        "#Imprima o resultado\n",
        "print(soma_vetores)\n",
        "\n",
        "plt.plot([1], [1],'b.')\n",
        "plt.plot([0], [0],'b.')\n",
        "plt.plot([2], [3],'b.')\n"
      ],
      "metadata": {
        "colab": {
          "base_uri": "https://localhost:8080/",
          "height": 673
        },
        "id": "JJtGxVsi-1WK",
        "outputId": "33bbb97a-4c75-4010-db8c-2e724ce1f88c"
      },
      "execution_count": null,
      "outputs": [
        {
          "output_type": "stream",
          "name": "stdout",
          "text": [
            "Entre seus dados90\n",
            "Você digitou o seguinte dado  90\n",
            "O valor digitado é (mas é falso):  90\n",
            "1\n",
            "2\n",
            "3\n",
            "4\n",
            "5\n",
            "6\n",
            "7\n",
            "8\n",
            "9\n",
            "[5 7 9]\n"
          ]
        },
        {
          "output_type": "execute_result",
          "data": {
            "text/plain": [
              "[<matplotlib.lines.Line2D at 0x7d591cff1900>]"
            ]
          },
          "metadata": {},
          "execution_count": 10
        },
        {
          "output_type": "display_data",
          "data": {
            "text/plain": [
              "<Figure size 640x480 with 1 Axes>"
            ],
            "image/png": "[encoded data removed]"
          },
          "metadata": {}
        }
      ]
    },
    {
      "cell_type": "code",
      "source": [
        "# Exemplo de criação de sets\n",
        "numeros = [1, 2, 2, 3, 3]\n",
        "numeros_distintos = set(numeros)\n",
        "print(\"Números: \", numeros)\n",
        "print(\"Números distintos: \", numeros_distintos)\n",
        "\n"
      ],
      "metadata": {
        "colab": {
          "base_uri": "https://localhost:8080/"
        },
        "id": "qo8pG6h2LIC1",
        "outputId": "c14d388a-2f7f-489e-e377-9fcc96d5904a"
      },
      "execution_count": null,
      "outputs": [
        {
          "output_type": "stream",
          "name": "stdout",
          "text": [
            "Numeros:  [1, 2, 2, 3, 3]\n",
            "Numeros distintos:  {1, 2, 3}\n"
          ]
        }
      ]
    },
    {
      "cell_type": "code",
      "source": [
        "# Exemplo de criação de sets - Função set.\n",
        "numeros = [1, 2, 2, 3, 3, 3, 4, 5, 5, 5, 5, 6, 6, 6, 6, 6,]\n",
        "numeros_distintos = set()\n",
        "for num in numeros:\n",
        "  numeros_distintos.add(num)\n",
        "print(\"Números: \", numeros)\n",
        "print(\"Números distintos: \", numeros_distintos)"
      ],
      "metadata": {
        "id": "0ZSUnEmXLOW9",
        "colab": {
          "base_uri": "https://localhost:8080/"
        },
        "outputId": "2b827141-9286-4c77-cf8b-5de11bdebd47"
      },
      "execution_count": 12,
      "outputs": [
        {
          "output_type": "stream",
          "name": "stdout",
          "text": [
            "Números:  [1, 2, 2, 3, 3, 3, 4, 5, 5, 5, 5, 6, 6, 6, 6, 6]\n",
            "Números distintos:  {1, 2, 3, 4, 5, 6}\n"
          ]
        }
      ]
    },
    {
      "cell_type": "code",
      "source": [
        "#exemplo de remoção de elementos - Função set.\n",
        "nums = set([1, 2, 2, 3, 3, 3])\n",
        "nums.remove(2)\n",
        "print(\"Números: \", nums)"
      ],
      "metadata": {
        "colab": {
          "base_uri": "https://localhost:8080/"
        },
        "id": "xl0lFs-lUVct",
        "outputId": "62d9dab8-8738-4484-fffb-1d401f445323"
      },
      "execution_count": 13,
      "outputs": [
        {
          "output_type": "stream",
          "name": "stdout",
          "text": [
            "Números:  {1, 3}\n"
          ]
        }
      ]
    },
    {
      "cell_type": "code",
      "source": [
        "# Exemplo de união de conjuntos\n",
        "A = {0, 1, 3, 5, 7, 9}\n",
        "B = {0, 2, 4, 6, 8}\n",
        "C =  A.union(B)\n",
        "print(C)\n"
      ],
      "metadata": {
        "colab": {
          "base_uri": "https://localhost:8080/"
        },
        "id": "b5z2wyoyUzxU",
        "outputId": "5734b014-78bc-496f-80e4-d611a119cbca"
      },
      "execution_count": 14,
      "outputs": [
        {
          "output_type": "stream",
          "name": "stdout",
          "text": [
            "{0, 1, 2, 3, 4, 5, 6, 7, 8, 9}\n"
          ]
        }
      ]
    },
    {
      "cell_type": "code",
      "source": [
        "# Exemplo de união de conjuntos\n",
        "A = {0, 1, 3, 5, 7, 9}\n",
        "B = {0, 2, 4, 6, 8}\n",
        "C =  A | B\n",
        "print(C)"
      ],
      "metadata": {
        "colab": {
          "base_uri": "https://localhost:8080/"
        },
        "id": "VsB1sfDCVlE_",
        "outputId": "2e8ea338-0428-4748-c9e8-909e59fbfbbe"
      },
      "execution_count": 15,
      "outputs": [
        {
          "output_type": "stream",
          "name": "stdout",
          "text": [
            "{0, 1, 2, 3, 4, 5, 6, 7, 8, 9}\n"
          ]
        }
      ]
    },
    {
      "cell_type": "code",
      "source": [
        "# Exemplo de interseção de conjuntos\n",
        "A = {0, 1, 3, 5, 7, 9}\n",
        "B = {0, 2, 4, 6, 8}\n",
        "C =  A & B\n",
        "print(C)"
      ],
      "metadata": {
        "colab": {
          "base_uri": "https://localhost:8080/"
        },
        "id": "WJ6_lRwBV0y4",
        "outputId": "04402c16-d5e1-4982-e2d2-89c252e32da7"
      },
      "execution_count": 16,
      "outputs": [
        {
          "output_type": "stream",
          "name": "stdout",
          "text": [
            "{0}\n"
          ]
        }
      ]
    }
  ]
}